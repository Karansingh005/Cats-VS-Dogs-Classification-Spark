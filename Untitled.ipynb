{
 "cells": [
  {
   "cell_type": "code",
   "execution_count": 1,
   "id": "2b3bce78-1d81-4f3a-95f2-b38bd62e659e",
   "metadata": {},
   "outputs": [
    {
     "name": "stderr",
     "output_type": "stream",
     "text": [
      "23/12/02 17:46:05 WARN Utils: Your hostname, karan resolves to a loopback address: 127.0.1.1; using 192.168.244.130 instead (on interface ens33)\n",
      "23/12/02 17:46:05 WARN Utils: Set SPARK_LOCAL_IP if you need to bind to another address\n"
     ]
    },
    {
     "name": "stdout",
     "output_type": "stream",
     "text": [
      ":: loading settings :: url = jar:file:/opt/spark/jars/ivy-2.5.1.jar!/org/apache/ivy/core/settings/ivysettings.xml\n"
     ]
    },
    {
     "name": "stderr",
     "output_type": "stream",
     "text": [
      "Ivy Default Cache set to: /home/karan/.ivy2/cache\n",
      "The jars for the packages stored in: /home/karan/.ivy2/jars\n",
      "io.delta#delta-spark_2.12 added as a dependency\n",
      ":: resolving dependencies :: org.apache.spark#spark-submit-parent-cf2e822d-58da-413b-9520-9a8b37a66dae;1.0\n",
      "\tconfs: [default]\n",
      "\tfound io.delta#delta-spark_2.12;3.0.0 in central\n",
      "\tfound io.delta#delta-storage;3.0.0 in central\n",
      "\tfound org.antlr#antlr4-runtime;4.9.3 in central\n",
      ":: resolution report :: resolve 644ms :: artifacts dl 27ms\n",
      "\t:: modules in use:\n",
      "\tio.delta#delta-spark_2.12;3.0.0 from central in [default]\n",
      "\tio.delta#delta-storage;3.0.0 from central in [default]\n",
      "\torg.antlr#antlr4-runtime;4.9.3 from central in [default]\n",
      "\t---------------------------------------------------------------------\n",
      "\t|                  |            modules            ||   artifacts   |\n",
      "\t|       conf       | number| search|dwnlded|evicted|| number|dwnlded|\n",
      "\t---------------------------------------------------------------------\n",
      "\t|      default     |   3   |   0   |   0   |   0   ||   3   |   0   |\n",
      "\t---------------------------------------------------------------------\n",
      ":: retrieving :: org.apache.spark#spark-submit-parent-cf2e822d-58da-413b-9520-9a8b37a66dae\n",
      "\tconfs: [default]\n",
      "\t0 artifacts copied, 3 already retrieved (0kB/31ms)\n",
      "23/12/02 17:46:07 WARN NativeCodeLoader: Unable to load native-hadoop library for your platform... using builtin-java classes where applicable\n",
      "Setting default log level to \"WARN\".\n",
      "To adjust logging level use sc.setLogLevel(newLevel). For SparkR, use setLogLevel(newLevel).\n"
     ]
    }
   ],
   "source": [
    "import findspark\n",
    "findspark.init()\n",
    "\n",
    "import pyspark\n",
    "\n",
    "from delta import *\n",
    "\n",
    "builder = pyspark.sql.SparkSession.builder.appName(\"MyApp\") \\\n",
    "    .config(\"spark.sql.extensions\", \"io.delta.sql.DeltaSparkSessionExtension\") \\\n",
    "    .config(\"spark.sql.catalog.spark_catalog\", \"org.apache.spark.sql.delta.catalog.DeltaCatalog\")\n",
    "\n",
    "spark = configure_spark_with_delta_pip(builder).getOrCreate()"
   ]
  },
  {
   "cell_type": "code",
   "execution_count": null,
   "id": "041a4867-a90c-408d-b593-dbbff491db41",
   "metadata": {},
   "outputs": [],
   "source": [
    "from sparkdl import readImages\n",
    "from pyspark.sql.functions import lit\n",
    "\n",
    "img_dir = \"/Desktop/train\"\n",
    "\n",
    "#Read images and Create training & test DataFrames for transfer learning\n",
    "cat_train = readImages(img_dir + \"/cat\").withColumn(\"label\", lit(1))\n",
    "dog_train = readImages(img_dir + \"/dog\").withColumn(\"label\", lit(0))\n",
    "\n",
    "test_dir = \"/Desktop/test1\"\n",
    "\n",
    "cat_test = readImages(test_dir + \"/cat\").withColumn(\"label\", lit(1))\n",
    "dog_test = readImages(test_dir + \"/dog\").withColumn(\"label\", lit(0))\n",
    "\n",
    "#dataframe for training a classification model\n",
    "train_df = cat_train.unionAll(dog_train)\n",
    "\n",
    "#dataframe for testing the classification model\n",
    "test_df = cat_test.unionAll(dog_test)"
   ]
  },
  {
   "cell_type": "code",
   "execution_count": null,
   "id": "9e456210-4be6-4fd5-9b7e-3f5da2d14ec2",
   "metadata": {},
   "outputs": [],
   "source": []
  }
 ],
 "metadata": {
  "kernelspec": {
   "display_name": "Python 3 (ipykernel)",
   "language": "python",
   "name": "python3"
  },
  "language_info": {
   "codemirror_mode": {
    "name": "ipython",
    "version": 3
   },
   "file_extension": ".py",
   "mimetype": "text/x-python",
   "name": "python",
   "nbconvert_exporter": "python",
   "pygments_lexer": "ipython3",
   "version": "3.10.12"
  }
 },
 "nbformat": 4,
 "nbformat_minor": 5
}
